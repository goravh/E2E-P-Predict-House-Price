{
 "cells": [
  {
   "cell_type": "code",
   "execution_count": 1,
   "id": "d0370ff6",
   "metadata": {},
   "outputs": [],
   "source": [
    "import pandas as pd\n",
    "import numpy as np\n",
    "import pickle"
   ]
  },
  {
   "cell_type": "code",
   "execution_count": 2,
   "id": "d6ab808e",
   "metadata": {},
   "outputs": [],
   "source": [
    "bedrooms=3\n",
    "bathrooms=1.5\n",
    "sqft_living=1340\n",
    "sqft_lot=7912\n",
    "floors=1.5\n",
    "waterfront=0\n",
    "view=0\n",
    "condition=3\n",
    "sqft_above=1340\n",
    "sqft_basement=0\n",
    "yr_built=1955\n",
    "yr_renovated=2005"
   ]
  },
  {
   "cell_type": "code",
   "execution_count": 9,
   "id": "76bde920",
   "metadata": {},
   "outputs": [],
   "source": [
    "x = np.array([[bedrooms, bathrooms, sqft_living, sqft_lot, floors,\n",
    "       waterfront, view, condition, sqft_above, sqft_basement,\n",
    "       yr_built, yr_renovated]])"
   ]
  },
  {
   "cell_type": "code",
   "execution_count": 6,
   "id": "d77eed95",
   "metadata": {},
   "outputs": [],
   "source": [
    "model = pickle.load(open('model.pkl', 'rb'))"
   ]
  },
  {
   "cell_type": "code",
   "execution_count": 10,
   "id": "721d3f14",
   "metadata": {},
   "outputs": [],
   "source": [
    "y_prediction = model.predict(x)"
   ]
  },
  {
   "cell_type": "code",
   "execution_count": 11,
   "id": "b65f2326",
   "metadata": {},
   "outputs": [
    {
     "data": {
      "text/plain": [
       "array([[361375.27500666]])"
      ]
     },
     "execution_count": 11,
     "metadata": {},
     "output_type": "execute_result"
    }
   ],
   "source": [
    "y_prediction"
   ]
  },
  {
   "cell_type": "code",
   "execution_count": null,
   "id": "591c1e11",
   "metadata": {},
   "outputs": [],
   "source": []
  }
 ],
 "metadata": {
  "kernelspec": {
   "display_name": "Python 3 (ipykernel)",
   "language": "python",
   "name": "python3"
  },
  "language_info": {
   "codemirror_mode": {
    "name": "ipython",
    "version": 3
   },
   "file_extension": ".py",
   "mimetype": "text/x-python",
   "name": "python",
   "nbconvert_exporter": "python",
   "pygments_lexer": "ipython3",
   "version": "3.9.7"
  }
 },
 "nbformat": 4,
 "nbformat_minor": 5
}
